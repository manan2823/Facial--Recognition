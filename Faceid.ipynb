{
 "cells": [
  {
   "cell_type": "code",
   "execution_count": 4,
   "id": "4014f72b",
   "metadata": {},
   "outputs": [
    {
     "name": "stdout",
     "output_type": "stream",
     "text": [
      "Requirement already satisfied: tensorflow in c:\\python39\\lib\\site-packages (2.10.0)\n",
      "Requirement already satisfied: h5py>=2.9.0 in c:\\python39\\lib\\site-packages (from tensorflow) (3.7.0)\n",
      "Requirement already satisfied: numpy>=1.20 in c:\\python39\\lib\\site-packages (from tensorflow) (1.22.4)\n",
      "Requirement already satisfied: flatbuffers>=2.0 in c:\\python39\\lib\\site-packages (from tensorflow) (22.10.26)\n",
      "Requirement already satisfied: tensorflow-estimator<2.11,>=2.10.0 in c:\\python39\\lib\\site-packages (from tensorflow) (2.10.0)\n",
      "Requirement already satisfied: keras<2.11,>=2.10.0 in c:\\python39\\lib\\site-packages (from tensorflow) (2.10.0)\n",
      "Requirement already satisfied: absl-py>=1.0.0 in c:\\python39\\lib\\site-packages (from tensorflow) (1.3.0)\n",
      "Requirement already satisfied: libclang>=13.0.0 in c:\\python39\\lib\\site-packages (from tensorflow) (14.0.6)\n",
      "Requirement already satisfied: protobuf<3.20,>=3.9.2 in c:\\python39\\lib\\site-packages (from tensorflow) (3.19.6)\n",
      "Requirement already satisfied: tensorboard<2.11,>=2.10 in c:\\python39\\lib\\site-packages (from tensorflow) (2.10.1)\n",
      "Requirement already satisfied: setuptools in c:\\python39\\lib\\site-packages (from tensorflow) (49.2.1)\n",
      "Requirement already satisfied: astunparse>=1.6.0 in c:\\python39\\lib\\site-packages (from tensorflow) (1.6.3)\n",
      "Requirement already satisfied: typing-extensions>=3.6.6 in c:\\python39\\lib\\site-packages (from tensorflow) (4.4.0)\n",
      "Requirement already satisfied: google-pasta>=0.1.1 in c:\\python39\\lib\\site-packages (from tensorflow) (0.2.0)\n",
      "Requirement already satisfied: opt-einsum>=2.3.2 in c:\\python39\\lib\\site-packages (from tensorflow) (3.3.0)\n",
      "Requirement already satisfied: wrapt>=1.11.0 in c:\\python39\\lib\\site-packages (from tensorflow) (1.14.1)\n",
      "Requirement already satisfied: tensorflow-io-gcs-filesystem>=0.23.1 in c:\\python39\\lib\\site-packages (from tensorflow) (0.27.0)\n",
      "Requirement already satisfied: termcolor>=1.1.0 in c:\\python39\\lib\\site-packages (from tensorflow) (2.1.0)\n",
      "Requirement already satisfied: packaging in c:\\users\\manan\\appdata\\roaming\\python\\python39\\site-packages (from tensorflow) (21.3)\n",
      "Requirement already satisfied: keras-preprocessing>=1.1.1 in c:\\python39\\lib\\site-packages (from tensorflow) (1.1.2)\n",
      "Requirement already satisfied: grpcio<2.0,>=1.24.3 in c:\\python39\\lib\\site-packages (from tensorflow) (1.50.0)\n",
      "Requirement already satisfied: gast<=0.4.0,>=0.2.1 in c:\\python39\\lib\\site-packages (from tensorflow) (0.4.0)\n",
      "Requirement already satisfied: six>=1.12.0 in c:\\python39\\lib\\site-packages (from tensorflow) (1.16.0)\n",
      "Requirement already satisfied: wheel<1.0,>=0.23.0 in c:\\python39\\lib\\site-packages (from astunparse>=1.6.0->tensorflow) (0.38.3)\n",
      "Requirement already satisfied: tensorboard-data-server<0.7.0,>=0.6.0 in c:\\python39\\lib\\site-packages (from tensorboard<2.11,>=2.10->tensorflow) (0.6.1)\n",
      "Requirement already satisfied: google-auth-oauthlib<0.5,>=0.4.1 in c:\\python39\\lib\\site-packages (from tensorboard<2.11,>=2.10->tensorflow) (0.4.6)\n",
      "Requirement already satisfied: markdown>=2.6.8 in c:\\python39\\lib\\site-packages (from tensorboard<2.11,>=2.10->tensorflow) (3.4.1)\n",
      "Requirement already satisfied: tensorboard-plugin-wit>=1.6.0 in c:\\python39\\lib\\site-packages (from tensorboard<2.11,>=2.10->tensorflow) (1.8.1)\n",
      "Requirement already satisfied: requests<3,>=2.21.0 in c:\\python39\\lib\\site-packages (from tensorboard<2.11,>=2.10->tensorflow) (2.26.0)\n",
      "Requirement already satisfied: werkzeug>=1.0.1 in c:\\python39\\lib\\site-packages (from tensorboard<2.11,>=2.10->tensorflow) (2.2.2)\n",
      "Requirement already satisfied: google-auth<3,>=1.6.3 in c:\\python39\\lib\\site-packages (from tensorboard<2.11,>=2.10->tensorflow) (2.14.1)\n",
      "Requirement already satisfied: pyparsing!=3.0.5,>=2.0.2 in c:\\python39\\lib\\site-packages (from packaging->tensorflow) (3.0.9)\n",
      "Requirement already satisfied: pyasn1-modules>=0.2.1 in c:\\python39\\lib\\site-packages (from google-auth<3,>=1.6.3->tensorboard<2.11,>=2.10->tensorflow) (0.2.8)\n",
      "Requirement already satisfied: rsa<5,>=3.1.4 in c:\\python39\\lib\\site-packages (from google-auth<3,>=1.6.3->tensorboard<2.11,>=2.10->tensorflow) (4.9)\n",
      "Requirement already satisfied: cachetools<6.0,>=2.0.0 in c:\\python39\\lib\\site-packages (from google-auth<3,>=1.6.3->tensorboard<2.11,>=2.10->tensorflow) (5.2.0)\n",
      "Requirement already satisfied: requests-oauthlib>=0.7.0 in c:\\python39\\lib\\site-packages (from google-auth-oauthlib<0.5,>=0.4.1->tensorboard<2.11,>=2.10->tensorflow) (1.3.1)\n",
      "Requirement already satisfied: importlib-metadata>=4.4 in c:\\python39\\lib\\site-packages (from markdown>=2.6.8->tensorboard<2.11,>=2.10->tensorflow) (5.0.0)\n",
      "Requirement already satisfied: idna<4,>=2.5 in c:\\python39\\lib\\site-packages (from requests<3,>=2.21.0->tensorboard<2.11,>=2.10->tensorflow) (3.3)\n",
      "Requirement already satisfied: charset-normalizer~=2.0.0 in c:\\python39\\lib\\site-packages (from requests<3,>=2.21.0->tensorboard<2.11,>=2.10->tensorflow) (2.0.7)\n",
      "Requirement already satisfied: urllib3<1.27,>=1.21.1 in c:\\python39\\lib\\site-packages (from requests<3,>=2.21.0->tensorboard<2.11,>=2.10->tensorflow) (1.26.7)\n",
      "Requirement already satisfied: certifi>=2017.4.17 in c:\\python39\\lib\\site-packages (from requests<3,>=2.21.0->tensorboard<2.11,>=2.10->tensorflow) (2021.10.8)\n",
      "Requirement already satisfied: MarkupSafe>=2.1.1 in c:\\python39\\lib\\site-packages (from werkzeug>=1.0.1->tensorboard<2.11,>=2.10->tensorflow) (2.1.1)\n",
      "Requirement already satisfied: zipp>=0.5 in c:\\python39\\lib\\site-packages (from importlib-metadata>=4.4->markdown>=2.6.8->tensorboard<2.11,>=2.10->tensorflow) (3.10.0)\n",
      "Requirement already satisfied: pyasn1<0.5.0,>=0.4.6 in c:\\python39\\lib\\site-packages (from pyasn1-modules>=0.2.1->google-auth<3,>=1.6.3->tensorboard<2.11,>=2.10->tensorflow) (0.4.8)\n",
      "Requirement already satisfied: oauthlib>=3.0.0 in c:\\python39\\lib\\site-packages (from requests-oauthlib>=0.7.0->google-auth-oauthlib<0.5,>=0.4.1->tensorboard<2.11,>=2.10->tensorflow) (3.2.2)\n"
     ]
    },
    {
     "name": "stderr",
     "output_type": "stream",
     "text": [
      "WARNING: Ignoring invalid distribution -p (c:\\python39\\lib\\site-packages)\n",
      "WARNING: Ignoring invalid distribution -p (c:\\python39\\lib\\site-packages)\n",
      "WARNING: Ignoring invalid distribution -ip (c:\\python39\\lib\\site-packages)\n",
      "WARNING: Ignoring invalid distribution - (c:\\python39\\lib\\site-packages)\n",
      "WARNING: Ignoring invalid distribution -p (c:\\python39\\lib\\site-packages)\n",
      "WARNING: Ignoring invalid distribution -p (c:\\python39\\lib\\site-packages)\n",
      "WARNING: Ignoring invalid distribution -ip (c:\\python39\\lib\\site-packages)\n",
      "WARNING: Ignoring invalid distribution - (c:\\python39\\lib\\site-packages)\n",
      "WARNING: Ignoring invalid distribution -p (c:\\python39\\lib\\site-packages)\n",
      "WARNING: Ignoring invalid distribution -p (c:\\python39\\lib\\site-packages)\n",
      "WARNING: Ignoring invalid distribution -ip (c:\\python39\\lib\\site-packages)\n",
      "WARNING: Ignoring invalid distribution - (c:\\python39\\lib\\site-packages)\n",
      "WARNING: Ignoring invalid distribution -p (c:\\python39\\lib\\site-packages)\n",
      "WARNING: Ignoring invalid distribution -p (c:\\python39\\lib\\site-packages)\n",
      "WARNING: Ignoring invalid distribution -ip (c:\\python39\\lib\\site-packages)\n",
      "WARNING: Ignoring invalid distribution - (c:\\python39\\lib\\site-packages)\n"
     ]
    }
   ],
   "source": [
    "!pip install tensorflow\n"
   ]
  },
  {
   "cell_type": "code",
   "execution_count": 5,
   "id": "3c1d6bf2",
   "metadata": {},
   "outputs": [],
   "source": [
    "import cv2\n",
    "import os\n",
    "import random\n",
    "import numpy as np\n",
    "from matplotlib import pyplot as plt\n"
   ]
  },
  {
   "cell_type": "code",
   "execution_count": 6,
   "id": "7fc91df9",
   "metadata": {},
   "outputs": [],
   "source": [
    "import tensorflow as tf\n",
    "from tensorflow.keras.models import Model\n",
    "from tensorflow.keras.layers import Layer, Conv2D, Input, Flatten\n",
    "from tensorflow.keras.layers import MaxPooling2D"
   ]
  },
  {
   "cell_type": "code",
   "execution_count": 7,
   "id": "577a6712",
   "metadata": {},
   "outputs": [],
   "source": [
    "gpus = tf.config.experimental.list_physical_devices('GPU')\n",
    "for gpu in gpus:\n",
    "    tf.config.experimental.set_memory_growth(gpu, True)"
   ]
  },
  {
   "cell_type": "code",
   "execution_count": 8,
   "id": "486df4e7",
   "metadata": {},
   "outputs": [],
   "source": [
    "path = \"C:\\\\Users\\\\manan\\\\Faceid\"\n",
    "os.chdir(path)\n",
    "POS_PATH = os.path.join('data','positive')\n",
    "NEG_PATH = os.path.join('data', 'negative')\n",
    "ANC_PATH = os.path.join('data', 'anchor')"
   ]
  },
  {
   "cell_type": "code",
   "execution_count": 9,
   "id": "928116fa",
   "metadata": {},
   "outputs": [
    {
     "ename": "FileExistsError",
     "evalue": "[WinError 183] Cannot create a file when that file already exists: 'data\\\\positive'",
     "output_type": "error",
     "traceback": [
      "\u001b[1;31m---------------------------------------------------------------------------\u001b[0m",
      "\u001b[1;31mFileExistsError\u001b[0m                           Traceback (most recent call last)",
      "Cell \u001b[1;32mIn [9], line 1\u001b[0m\n\u001b[1;32m----> 1\u001b[0m \u001b[43mos\u001b[49m\u001b[38;5;241;43m.\u001b[39;49m\u001b[43mmakedirs\u001b[49m\u001b[43m(\u001b[49m\u001b[43mPOS_PATH\u001b[49m\u001b[43m)\u001b[49m\n\u001b[0;32m      2\u001b[0m os\u001b[38;5;241m.\u001b[39mmakedirs(NEG_PATH)\n\u001b[0;32m      3\u001b[0m os\u001b[38;5;241m.\u001b[39mmakedirs(ANC_PATH)\n",
      "File \u001b[1;32mc:\\python39\\lib\\os.py:225\u001b[0m, in \u001b[0;36mmakedirs\u001b[1;34m(name, mode, exist_ok)\u001b[0m\n\u001b[0;32m    223\u001b[0m         \u001b[38;5;28;01mreturn\u001b[39;00m\n\u001b[0;32m    224\u001b[0m \u001b[38;5;28;01mtry\u001b[39;00m:\n\u001b[1;32m--> 225\u001b[0m     \u001b[43mmkdir\u001b[49m\u001b[43m(\u001b[49m\u001b[43mname\u001b[49m\u001b[43m,\u001b[49m\u001b[43m \u001b[49m\u001b[43mmode\u001b[49m\u001b[43m)\u001b[49m\n\u001b[0;32m    226\u001b[0m \u001b[38;5;28;01mexcept\u001b[39;00m \u001b[38;5;167;01mOSError\u001b[39;00m:\n\u001b[0;32m    227\u001b[0m     \u001b[38;5;66;03m# Cannot rely on checking for EEXIST, since the operating system\u001b[39;00m\n\u001b[0;32m    228\u001b[0m     \u001b[38;5;66;03m# could give priority to other errors like EACCES or EROFS\u001b[39;00m\n\u001b[0;32m    229\u001b[0m     \u001b[38;5;28;01mif\u001b[39;00m \u001b[38;5;129;01mnot\u001b[39;00m exist_ok \u001b[38;5;129;01mor\u001b[39;00m \u001b[38;5;129;01mnot\u001b[39;00m path\u001b[38;5;241m.\u001b[39misdir(name):\n",
      "\u001b[1;31mFileExistsError\u001b[0m: [WinError 183] Cannot create a file when that file already exists: 'data\\\\positive'"
     ]
    }
   ],
   "source": [
    "os.makedirs(POS_PATH)\n",
    "os.makedirs(NEG_PATH)\n",
    "os.makedirs(ANC_PATH)"
   ]
  },
  {
   "cell_type": "code",
   "execution_count": null,
   "id": "35aa3459",
   "metadata": {},
   "outputs": [],
   "source": [
    "!tar -xf lfw.tgz"
   ]
  },
  {
   "cell_type": "code",
   "execution_count": null,
   "id": "68e36dc9",
   "metadata": {},
   "outputs": [],
   "source": [
    "for directory in os.listdir('lfw'):\n",
    "    for file in os.listdir(os.path.join('lfw',directory)):\n",
    "        EX_PATH = os.path.join('lfw',directory,file)\n",
    "        NEW_PATH  = os.path.join(NEG_PATH, file)\n",
    "        os.replace(EX_PATH , NEW_PATH)"
   ]
  },
  {
   "cell_type": "code",
   "execution_count": null,
   "id": "f73302cb",
   "metadata": {},
   "outputs": [],
   "source": [
    "import uuid"
   ]
  },
  {
   "cell_type": "code",
   "execution_count": null,
   "id": "edd062a4",
   "metadata": {},
   "outputs": [],
   "source": [
    "os.path.join(POS_PATH,'{}.jpg'.format(uuid.uuid1()))"
   ]
  },
  {
   "cell_type": "code",
   "execution_count": null,
   "id": "af6001a8",
   "metadata": {},
   "outputs": [],
   "source": [
    "cap = cv2.VideoCapture(0)\n",
    "while cap.isOpened():\n",
    "    ret,frame = cap.read()\n",
    "    frame = frame[90:90+250,100:100+250,:]\n",
    "    #collect anchor\n",
    "    if cv2.waitKey(1) & 0XFF == ord('a'):\n",
    "        imgname = os.path.join(ANC_PATH, '{}.jpg'.format(uuid.uuid1()))\n",
    "        cv2.imwrite(imgname, frame)\n",
    "    #collect positives\n",
    "    if cv2.waitKey(1) & 0XFF == ord('p'):\n",
    "        imgname = os.path.join(POS_PATH, '{}.jpg'.format(uuid.uuid1()))\n",
    "        cv2.imwrite(imgname, frame)\n",
    "        \n",
    "    cv2.imshow('Image Collection', frame)\n",
    " \n",
    "    if cv2.waitKey(1) & 0XFF == ord('q'):\n",
    "        break\n",
    "cap.release()\n",
    "cv2.destroyAllWindows()"
   ]
  },
  {
   "cell_type": "markdown",
   "id": "228d0427",
   "metadata": {},
   "source": [
    "Get Image Directories\n"
   ]
  },
  {
   "cell_type": "code",
   "execution_count": 10,
   "id": "110638ef",
   "metadata": {},
   "outputs": [],
   "source": [
    "anchor = tf.data.Dataset.list_files(ANC_PATH+'\\*.jpg').take(300)\n",
    "negative = tf.data.Dataset.list_files(NEG_PATH+'\\*.jpg').take(300)\n",
    "positive = tf.data.Dataset.list_files(POS_PATH+'\\*.jpg').take(300)"
   ]
  },
  {
   "cell_type": "code",
   "execution_count": 11,
   "id": "08073488",
   "metadata": {},
   "outputs": [],
   "source": [
    "dir_test = anchor.as_numpy_iterator()"
   ]
  },
  {
   "cell_type": "code",
   "execution_count": 12,
   "id": "05bdf966",
   "metadata": {},
   "outputs": [
    {
     "name": "stdout",
     "output_type": "stream",
     "text": [
      "b'data\\\\anchor\\\\8a02ab7d-61e5-11ed-8116-975062e6057d.jpg'\n"
     ]
    }
   ],
   "source": [
    "print(dir_test.next())"
   ]
  },
  {
   "cell_type": "code",
   "execution_count": 13,
   "id": "54fe1724",
   "metadata": {},
   "outputs": [],
   "source": [
    "def preprocess(file_path):\n",
    "    #read in image from file_path\n",
    "    byte_img = tf.io.read_file(file_path)\n",
    "    # load in the image\n",
    "    img = tf.io.decode_jpeg(byte_img)\n",
    "    #preprcessing steps - resizing the image to be 100x100x3\n",
    "    img = tf.image.resize(img,(100,100))\n",
    "    img = img/255.0\n",
    "    return img"
   ]
  },
  {
   "cell_type": "code",
   "execution_count": 14,
   "id": "ac08cff1",
   "metadata": {},
   "outputs": [],
   "source": [
    "img = preprocess('data\\\\anchor\\\\8b71c3dd-61e5-11ed-ae14-975062e6057d.jpg')"
   ]
  },
  {
   "cell_type": "code",
   "execution_count": 15,
   "id": "77e881bb",
   "metadata": {},
   "outputs": [
    {
     "data": {
      "text/plain": [
       "<matplotlib.image.AxesImage at 0x2da1f7a8880>"
      ]
     },
     "execution_count": 15,
     "metadata": {},
     "output_type": "execute_result"
    },
    {
     "data": {
      "image/png": "[encoded data removed]",
      "text/plain": [
       "<Figure size 640x480 with 1 Axes>"
      ]
     },
     "metadata": {},
     "output_type": "display_data"
    }
   ],
   "source": [
    "plt.imshow(img)"
   ]
  },
  {
   "cell_type": "code",
   "execution_count": 16,
   "id": "f303144c",
   "metadata": {},
   "outputs": [],
   "source": [
    "# Create Labelled Datasets"
   ]
  },
  {
   "cell_type": "code",
   "execution_count": 17,
   "id": "f4823f84",
   "metadata": {},
   "outputs": [],
   "source": [
    "positives = tf.data.Dataset.zip((anchor,positive, tf.data.Dataset.from_tensor_slices(tf.ones(len(anchor)))))\n",
    "negatives = tf.data.Dataset.zip((anchor,negative, tf.data.Dataset.from_tensor_slices(tf.zeros(len(anchor)))))\n",
    "data = positives.concatenate(negatives)"
   ]
  },
  {
   "cell_type": "code",
   "execution_count": 18,
   "id": "da46e123",
   "metadata": {},
   "outputs": [],
   "source": [
    "samples = data.as_numpy_iterator()"
   ]
  },
  {
   "cell_type": "code",
   "execution_count": 19,
   "id": "98106c20",
   "metadata": {},
   "outputs": [],
   "source": [
    "example = samples.next()"
   ]
  },
  {
   "cell_type": "code",
   "execution_count": 20,
   "id": "6f3ce234",
   "metadata": {},
   "outputs": [
    {
     "data": {
      "text/plain": [
       "(b'data\\\\anchor\\\\79c750d5-61e5-11ed-a0bb-975062e6057d.jpg',\n",
       " b'data\\\\positive\\\\9b8e0d90-61e5-11ed-8a63-975062e6057d.jpg',\n",
       " 1.0)"
      ]
     },
     "execution_count": 20,
     "metadata": {},
     "output_type": "execute_result"
    }
   ],
   "source": [
    "example"
   ]
  },
  {
   "cell_type": "code",
   "execution_count": 21,
   "id": "348dd781",
   "metadata": {},
   "outputs": [],
   "source": [
    "def preprocess_twin(input_img, validation_img, label):\n",
    "    return(preprocess(input_img), preprocess(validation_img), label)"
   ]
  },
  {
   "cell_type": "code",
   "execution_count": 22,
   "id": "ed102271",
   "metadata": {},
   "outputs": [],
   "source": [
    "res = preprocess_twin(*example)"
   ]
  },
  {
   "cell_type": "code",
   "execution_count": 23,
   "id": "c017e25d",
   "metadata": {},
   "outputs": [
    {
     "data": {
      "text/plain": [
       "<matplotlib.image.AxesImage at 0x2da21836370>"
      ]
     },
     "execution_count": 23,
     "metadata": {},
     "output_type": "execute_result"
    },
    {
     "data": {
      "image/png": "[encoded data removed]",
      "text/plain": [
       "<Figure size 640x480 with 1 Axes>"
      ]
     },
     "metadata": {},
     "output_type": "display_data"
    }
   ],
   "source": [
    "plt.imshow(res[1])"
   ]
  },
  {
   "cell_type": "code",
   "execution_count": 24,
   "id": "d2c58f43",
   "metadata": {},
   "outputs": [
    {
     "data": {
      "text/plain": [
       "1.0"
      ]
     },
     "execution_count": 24,
     "metadata": {},
     "output_type": "execute_result"
    }
   ],
   "source": [
    "res[2]"
   ]
  },
  {
   "cell_type": "code",
   "execution_count": 25,
   "id": "a4de71eb",
   "metadata": {},
   "outputs": [],
   "source": [
    "data = data.map(preprocess_twin)\n",
    "data = data.cache()\n",
    "data = data.shuffle(buffer_size = 1024)"
   ]
  },
  {
   "cell_type": "code",
   "execution_count": 26,
   "id": "f26821e8",
   "metadata": {},
   "outputs": [],
   "source": [
    "train_data = data.take(round(len(data)*.7))\n",
    "train_data = train_data.batch(16)\n",
    "train_data = train_data.prefetch(8)"
   ]
  },
  {
   "cell_type": "code",
   "execution_count": 27,
   "id": "e01cb657",
   "metadata": {},
   "outputs": [],
   "source": [
    "test_data = data.skip(round(len(data)*.7))\n",
    "test_data = test_data.take(round(len(data)*.3))\n",
    "test_data = test_data.batch(16)\n",
    "test_data = test_data.prefetch(8)"
   ]
  },
  {
   "cell_type": "code",
   "execution_count": 28,
   "id": "3dc3d11d",
   "metadata": {},
   "outputs": [],
   "source": [
    "from tensorflow.keras.layers import Dense"
   ]
  },
  {
   "cell_type": "code",
   "execution_count": 29,
   "id": "93b4c233",
   "metadata": {},
   "outputs": [],
   "source": [
    "#function for embedding layer\n",
    "def make_embedding():\n",
    "    inp = Input(shape=(100,100,3), name = 'input_image')\n",
    "    #first block\n",
    "    c1 = Conv2D(64,(10,10), activation ='relu')(inp)\n",
    "    m1 = MaxPooling2D(64, (2,2), padding='same')(c1)\n",
    "    \n",
    "    #second block\n",
    "    c2 = Conv2D(128,(7,7), activation ='relu')(m1)\n",
    "    m2 = MaxPooling2D(64, (2,2), padding='same')(c2)\n",
    "    \n",
    "    #third block\n",
    "    c3 = Conv2D(128,(4,4), activation ='relu')(m2)\n",
    "    m3 = MaxPooling2D(64, (2,2), padding='same')(c3)\n",
    "    \n",
    "    #final embedding block\n",
    "    c4 = Conv2D(256,(4,4), activation ='relu')(m3)\n",
    "    f1 = Flatten()(c4)\n",
    "    d1 = Dense(4096, activation='sigmoid')(f1)\n",
    "    \n",
    "    return Model(inputs=[inp] , outputs=[d1], name='embedding')"
   ]
  },
  {
   "cell_type": "code",
   "execution_count": 30,
   "id": "97da8b9c",
   "metadata": {},
   "outputs": [],
   "source": [
    "embedding = make_embedding()"
   ]
  },
  {
   "cell_type": "code",
   "execution_count": 31,
   "id": "21a2719a",
   "metadata": {},
   "outputs": [
    {
     "name": "stdout",
     "output_type": "stream",
     "text": [
      "Model: \"embedding\"\n",
      "_________________________________________________________________\n",
      " Layer (type)                Output Shape              Param #   \n",
      "=================================================================\n",
      " input_image (InputLayer)    [(None, 100, 100, 3)]     0         \n",
      "                                                                 \n",
      " conv2d (Conv2D)             (None, 91, 91, 64)        19264     \n",
      "                                                                 \n",
      " max_pooling2d (MaxPooling2D  (None, 46, 46, 64)       0         \n",
      " )                                                               \n",
      "                                                                 \n",
      " conv2d_1 (Conv2D)           (None, 40, 40, 128)       401536    \n",
      "                                                                 \n",
      " max_pooling2d_1 (MaxPooling  (None, 20, 20, 128)      0         \n",
      " 2D)                                                             \n",
      "                                                                 \n",
      " conv2d_2 (Conv2D)           (None, 17, 17, 128)       262272    \n",
      "                                                                 \n",
      " max_pooling2d_2 (MaxPooling  (None, 9, 9, 128)        0         \n",
      " 2D)                                                             \n",
      "                                                                 \n",
      " conv2d_3 (Conv2D)           (None, 6, 6, 256)         524544    \n",
      "                                                                 \n",
      " flatten (Flatten)           (None, 9216)              0         \n",
      "                                                                 \n",
      " dense (Dense)               (None, 4096)              37752832  \n",
      "                                                                 \n",
      "=================================================================\n",
      "Total params: 38,960,448\n",
      "Trainable params: 38,960,448\n",
      "Non-trainable params: 0\n",
      "_________________________________________________________________\n"
     ]
    }
   ],
   "source": [
    "embedding.summary()"
   ]
  },
  {
   "cell_type": "code",
   "execution_count": 32,
   "id": "47dd5b42",
   "metadata": {},
   "outputs": [],
   "source": [
    "#Siamese L1 Distance Class\n",
    "class L1Dist(Layer):\n",
    "    def __init__(self, **kwargs):\n",
    "        super().__init__()\n",
    "        \n",
    "    #Similarity Calculation\n",
    "    def call(self, input_embedding, validation_embedding):\n",
    "        return tf.math.abs(input_embedding - validation_embedding)\n",
    "    "
   ]
  },
  {
   "cell_type": "code",
   "execution_count": 33,
   "id": "c4f9a36c",
   "metadata": {},
   "outputs": [],
   "source": [
    "l1 = L1Dist()"
   ]
  },
  {
   "cell_type": "code",
   "execution_count": 34,
   "id": "2bc8a600",
   "metadata": {},
   "outputs": [
    {
     "data": {
      "text/plain": [
       "<__main__.L1Dist at 0x2da218d2fa0>"
      ]
     },
     "execution_count": 34,
     "metadata": {},
     "output_type": "execute_result"
    }
   ],
   "source": [
    "l1"
   ]
  },
  {
   "cell_type": "code",
   "execution_count": 35,
   "id": "f06cb5c5",
   "metadata": {},
   "outputs": [],
   "source": [
    " validation_image = Input(name='validation_img', shape=(100,100,3))\n",
    "input_image = Input(name='input_img', shape=(100,100,3))"
   ]
  },
  {
   "cell_type": "code",
   "execution_count": 36,
   "id": "453366d3",
   "metadata": {},
   "outputs": [],
   "source": [
    "inp_embedding = embedding(input_image)\n",
    "val_embedding = embedding(validation_image)"
   ]
  },
  {
   "cell_type": "code",
   "execution_count": 37,
   "id": "70ba5f5c",
   "metadata": {},
   "outputs": [],
   "source": [
    "siamese_layer = L1Dist()"
   ]
  },
  {
   "cell_type": "code",
   "execution_count": 38,
   "id": "ba851a8e",
   "metadata": {},
   "outputs": [],
   "source": [
    "distances = siamese_layer(inp_embedding, val_embedding)"
   ]
  },
  {
   "cell_type": "code",
   "execution_count": 39,
   "id": "319a38b6",
   "metadata": {},
   "outputs": [],
   "source": [
    "classifier = Dense(1, activation='sigmoid')(distances)"
   ]
  },
  {
   "cell_type": "code",
   "execution_count": 40,
   "id": "17965463",
   "metadata": {},
   "outputs": [
    {
     "data": {
      "text/plain": [
       "<KerasTensor: shape=(None, 1) dtype=float32 (created by layer 'dense_1')>"
      ]
     },
     "execution_count": 40,
     "metadata": {},
     "output_type": "execute_result"
    }
   ],
   "source": [
    "classifier"
   ]
  },
  {
   "cell_type": "code",
   "execution_count": 41,
   "id": "1aebdc78",
   "metadata": {},
   "outputs": [],
   "source": [
    "siamese_network =  Model(inputs= [input_image, validation_image], outputs=classifier, name='SiameseNetwork')"
   ]
  },
  {
   "cell_type": "code",
   "execution_count": 42,
   "id": "767e666f",
   "metadata": {},
   "outputs": [
    {
     "name": "stdout",
     "output_type": "stream",
     "text": [
      "Model: \"SiameseNetwork\"\n",
      "__________________________________________________________________________________________________\n",
      " Layer (type)                   Output Shape         Param #     Connected to                     \n",
      "==================================================================================================\n",
      " input_img (InputLayer)         [(None, 100, 100, 3  0           []                               \n",
      "                                )]                                                                \n",
      "                                                                                                  \n",
      " validation_img (InputLayer)    [(None, 100, 100, 3  0           []                               \n",
      "                                )]                                                                \n",
      "                                                                                                  \n",
      " embedding (Functional)         (None, 4096)         38960448    ['input_img[0][0]',              \n",
      "                                                                  'validation_img[0][0]']         \n",
      "                                                                                                  \n",
      " l1_dist_1 (L1Dist)             (None, 4096)         0           ['embedding[0][0]',              \n",
      "                                                                  'embedding[1][0]']              \n",
      "                                                                                                  \n",
      " dense_1 (Dense)                (None, 1)            4097        ['l1_dist_1[0][0]']              \n",
      "                                                                                                  \n",
      "==================================================================================================\n",
      "Total params: 38,964,545\n",
      "Trainable params: 38,964,545\n",
      "Non-trainable params: 0\n",
      "__________________________________________________________________________________________________\n"
     ]
    }
   ],
   "source": [
    "siamese_network.summary()"
   ]
  },
  {
   "cell_type": "code",
   "execution_count": 43,
   "id": "d0698db3",
   "metadata": {},
   "outputs": [],
   "source": [
    "def make_siamese_model():\n",
    "    \n",
    "    #Anchor image inputs in te network\n",
    "    input_image = Input(name = 'input_img', shape=(100,100,3))\n",
    "    \n",
    "    #validation image in the network\n",
    "    validation_image = Input(name='validation_img', shape=(100,100,3))\n",
    "    \n",
    "    #combine siamese distance components\n",
    "    siamese_layer = L1Dist()\n",
    "    siamese_layer._name = 'distance'\n",
    "    distances = siamese_layer(embedding(input_image), embedding(validation_image))\n",
    "    \n",
    "    #calssification layer\n",
    "    classifier = Dense(1, activation='sigmoid')(distances)\n",
    "    \n",
    "    return Model(inputs= [input_image, validation_image], outputs=classifier, name='SiameseNetwork')"
   ]
  },
  {
   "cell_type": "code",
   "execution_count": 44,
   "id": "57ddc729",
   "metadata": {},
   "outputs": [],
   "source": [
    "siamese_model = make_siamese_model()"
   ]
  },
  {
   "cell_type": "code",
   "execution_count": 45,
   "id": "e39ae778",
   "metadata": {},
   "outputs": [
    {
     "name": "stdout",
     "output_type": "stream",
     "text": [
      "Model: \"SiameseNetwork\"\n",
      "__________________________________________________________________________________________________\n",
      " Layer (type)                   Output Shape         Param #     Connected to                     \n",
      "==================================================================================================\n",
      " input_img (InputLayer)         [(None, 100, 100, 3  0           []                               \n",
      "                                )]                                                                \n",
      "                                                                                                  \n",
      " validation_img (InputLayer)    [(None, 100, 100, 3  0           []                               \n",
      "                                )]                                                                \n",
      "                                                                                                  \n",
      " embedding (Functional)         (None, 4096)         38960448    ['input_img[0][0]',              \n",
      "                                                                  'validation_img[0][0]']         \n",
      "                                                                                                  \n",
      " distance (L1Dist)              (None, 4096)         0           ['embedding[2][0]',              \n",
      "                                                                  'embedding[3][0]']              \n",
      "                                                                                                  \n",
      " dense_2 (Dense)                (None, 1)            4097        ['distance[0][0]']               \n",
      "                                                                                                  \n",
      "==================================================================================================\n",
      "Total params: 38,964,545\n",
      "Trainable params: 38,964,545\n",
      "Non-trainable params: 0\n",
      "__________________________________________________________________________________________________\n"
     ]
    }
   ],
   "source": [
    "siamese_model.summary()"
   ]
  },
  {
   "cell_type": "markdown",
   "id": "c24def48",
   "metadata": {},
   "source": [
    "# Setup Loss and Optimizer"
   ]
  },
  {
   "cell_type": "code",
   "execution_count": 46,
   "id": "7721c456",
   "metadata": {},
   "outputs": [],
   "source": [
    "binary_cross_loss = tf.losses.BinaryCrossentropy()"
   ]
  },
  {
   "cell_type": "code",
   "execution_count": 47,
   "id": "60f41e79",
   "metadata": {},
   "outputs": [],
   "source": [
    "opt = tf.keras.optimizers.Adam(1e-4) # 0.0001"
   ]
  },
  {
   "cell_type": "markdown",
   "id": "a5f759d6",
   "metadata": {},
   "source": [
    "# Estrablish CheckPoints"
   ]
  },
  {
   "cell_type": "code",
   "execution_count": 48,
   "id": "061c7c02",
   "metadata": {},
   "outputs": [],
   "source": [
    "checkpoint_dir = './training_checkpoints'\n",
    "checkpoint_prefix = os.path.join(checkpoint_dir, 'ckpt')\n",
    "checkpoint = tf.train.Checkpoint(opt=opt, siamese_model = siamese_model)"
   ]
  },
  {
   "cell_type": "markdown",
   "id": "7e328a7c",
   "metadata": {},
   "source": [
    "#Build Train Step Function"
   ]
  },
  {
   "cell_type": "code",
   "execution_count": 49,
   "id": "5f8b527f",
   "metadata": {},
   "outputs": [],
   "source": [
    "test_batch = train_data.as_numpy_iterator()"
   ]
  },
  {
   "cell_type": "code",
   "execution_count": 50,
   "id": "daaec1c7",
   "metadata": {},
   "outputs": [],
   "source": [
    "batch_1 = test_batch.next()"
   ]
  },
  {
   "cell_type": "code",
   "execution_count": 51,
   "id": "1c44efec",
   "metadata": {},
   "outputs": [
    {
     "data": {
      "text/plain": [
       "array([[[[0.53333336, 0.5686275 , 0.5568628 ],\n",
       "         [0.5254902 , 0.5686275 , 0.5529412 ],\n",
       "         [0.5203431 , 0.56642157, 0.5507353 ],\n",
       "         ...,\n",
       "         [0.5137255 , 0.5529412 , 0.50980395],\n",
       "         [0.51960784, 0.5529412 , 0.50980395],\n",
       "         [0.5178922 , 0.5492647 , 0.5061275 ]],\n",
       "\n",
       "        [[0.5360294 , 0.5732843 , 0.5605392 ],\n",
       "         [0.5355392 , 0.57965684, 0.56397057],\n",
       "         [0.53357846, 0.5806373 , 0.564951  ],\n",
       "         ...,\n",
       "         [0.5019608 , 0.5480392 , 0.5107843 ],\n",
       "         [0.5012255 , 0.54362744, 0.50710785],\n",
       "         [0.49803922, 0.5392157 , 0.5029412 ]],\n",
       "\n",
       "        [[0.5262255 , 0.56936276, 0.5536765 ],\n",
       "         [0.527451  , 0.5737745 , 0.55808824],\n",
       "         [0.52892154, 0.58259803, 0.5647059 ],\n",
       "         ...,\n",
       "         [0.5088235 , 0.55196077, 0.525     ],\n",
       "         [0.5058824 , 0.5497549 , 0.51691175],\n",
       "         [0.50686276, 0.5509804 , 0.5176471 ]],\n",
       "\n",
       "        ...,\n",
       "\n",
       "        [[0.49607843, 0.55490196, 0.54313725],\n",
       "         [0.50686276, 0.5509804 , 0.5362745 ],\n",
       "         [0.5127451 , 0.5480392 , 0.5362745 ],\n",
       "         ...,\n",
       "         [0.12720588, 0.09387255, 0.03406863],\n",
       "         [0.12328431, 0.09436274, 0.03235294],\n",
       "         [0.12058824, 0.09313726, 0.0245098 ]],\n",
       "\n",
       "        [[0.4852941 , 0.5441176 , 0.5323529 ],\n",
       "         [0.49926472, 0.54338235, 0.52867645],\n",
       "         [0.5029412 , 0.5382353 , 0.5264706 ],\n",
       "         ...,\n",
       "         [0.12328431, 0.09583333, 0.03308824],\n",
       "         [0.12181372, 0.09436274, 0.03161765],\n",
       "         [0.1245098 , 0.09411765, 0.04019608]],\n",
       "\n",
       "        [[0.48259804, 0.5414216 , 0.5296569 ],\n",
       "         [0.49313724, 0.5372549 , 0.52254903],\n",
       "         [0.50661767, 0.5419118 , 0.5301471 ],\n",
       "         ...,\n",
       "         [0.14117648, 0.11372549, 0.05098039],\n",
       "         [0.13063726, 0.1002451 , 0.04632353],\n",
       "         [0.1264706 , 0.09509804, 0.04411765]]],\n",
       "\n",
       "\n",
       "       [[[0.5058824 , 0.5568628 , 0.5294118 ],\n",
       "         [0.5009804 , 0.5539216 , 0.5264706 ],\n",
       "         [0.49803922, 0.5568628 , 0.5294118 ],\n",
       "         ...,\n",
       "         [0.49019608, 0.52843136, 0.5       ],\n",
       "         [0.49044117, 0.5257353 , 0.5061275 ],\n",
       "         [0.47843137, 0.52156866, 0.49803922]],\n",
       "\n",
       "        [[0.5029412 , 0.55196077, 0.5254902 ],\n",
       "         [0.5029412 , 0.5539216 , 0.5264706 ],\n",
       "         [0.50147057, 0.5568628 , 0.5294118 ],\n",
       "         ...,\n",
       "         [0.49019608, 0.5294118 , 0.49803922],\n",
       "         [0.49019608, 0.5294118 , 0.49803922],\n",
       "         [0.48431373, 0.5264706 , 0.49509802]],\n",
       "\n",
       "        [[0.50980395, 0.5529412 , 0.5352941 ],\n",
       "         [0.5120098 , 0.55710787, 0.5384804 ],\n",
       "         [0.5127451 , 0.55784315, 0.5392157 ],\n",
       "         ...,\n",
       "         [0.49068627, 0.5203431 , 0.5       ],\n",
       "         [0.4862745 , 0.52254903, 0.5       ],\n",
       "         [0.49411765, 0.53333336, 0.5019608 ]],\n",
       "\n",
       "        ...,\n",
       "\n",
       "        [[0.47745097, 0.5362745 , 0.51666665],\n",
       "         [0.48235294, 0.5421569 , 0.50392157],\n",
       "         [0.49583334, 0.5416667 , 0.50759804],\n",
       "         ...,\n",
       "         [0.06544118, 0.06691176, 0.02107843],\n",
       "         [0.06764706, 0.07352941, 0.0254902 ],\n",
       "         [0.07254902, 0.07843138, 0.0382353 ]],\n",
       "\n",
       "        [[0.47058824, 0.5294118 , 0.5019608 ],\n",
       "         [0.4764706 , 0.5362745 , 0.4970588 ],\n",
       "         [0.48921567, 0.5372549 , 0.49803922],\n",
       "         ...,\n",
       "         [0.07916667, 0.07254902, 0.03553922],\n",
       "         [0.07254902, 0.07254902, 0.03333334],\n",
       "         [0.08039216, 0.08039216, 0.04313726]],\n",
       "\n",
       "        [[0.48235294, 0.5411765 , 0.5137255 ],\n",
       "         [0.4764706 , 0.5355392 , 0.4995098 ],\n",
       "         [0.4862745 , 0.53137255, 0.4990196 ],\n",
       "         ...,\n",
       "         [0.08210784, 0.07426471, 0.02720588],\n",
       "         [0.07156863, 0.06960785, 0.02254902],\n",
       "         [0.07058824, 0.07058824, 0.02352941]]],\n",
       "\n",
       "\n",
       "       [[[0.50710785, 0.58161765, 0.55808824],\n",
       "         [0.50710785, 0.58161765, 0.5659314 ],\n",
       "         [0.5063726 , 0.5720588 , 0.5651961 ],\n",
       "         ...,\n",
       "         [0.5058824 , 0.5529412 , 0.5529412 ],\n",
       "         [0.5029412 , 0.55      , 0.55      ],\n",
       "         [0.49803922, 0.54509807, 0.5372549 ]],\n",
       "\n",
       "        [[0.5156863 , 0.58137256, 0.56078434],\n",
       "         [0.5139706 , 0.5767157 , 0.56691176],\n",
       "         [0.5208333 , 0.5835784 , 0.57965684],\n",
       "         ...,\n",
       "         [0.5009804 , 0.5539216 , 0.5539216 ],\n",
       "         [0.50686276, 0.5539216 , 0.5480392 ],\n",
       "         [0.5029412 , 0.55      , 0.5421569 ]],\n",
       "\n",
       "        [[0.51936275, 0.57916665, 0.56740195],\n",
       "         [0.52230394, 0.58137256, 0.57230395],\n",
       "         [0.52156866, 0.57843137, 0.577451  ],\n",
       "         ...,\n",
       "         [0.5009804 , 0.5561274 , 0.5480392 ],\n",
       "         [0.50980395, 0.5568628 , 0.5495098 ],\n",
       "         [0.51862746, 0.5598039 , 0.55490196]],\n",
       "\n",
       "        ...,\n",
       "\n",
       "        [[0.48897058, 0.54583335, 0.5448529 ],\n",
       "         [0.49191177, 0.5468137 , 0.5468137 ],\n",
       "         [0.49779412, 0.55269605, 0.55269605],\n",
       "         ...,\n",
       "         [0.10343137, 0.08921569, 0.04142157],\n",
       "         [0.11789215, 0.10955882, 0.05882353],\n",
       "         [0.13235295, 0.1245098 , 0.06764706]],\n",
       "\n",
       "        [[0.47549018, 0.5382353 , 0.53431374],\n",
       "         [0.47818628, 0.5389706 , 0.5360294 ],\n",
       "         [0.48039216, 0.5367647 , 0.5360294 ],\n",
       "         ...,\n",
       "         [0.10196079, 0.08627451, 0.03921569],\n",
       "         [0.10122549, 0.0870098 , 0.03921569],\n",
       "         [0.08627451, 0.07843138, 0.03039216]],\n",
       "\n",
       "        [[0.46960783, 0.5323529 , 0.5323529 ],\n",
       "         [0.46960783, 0.5323529 , 0.52843136],\n",
       "         [0.47941175, 0.5362745 , 0.5352941 ],\n",
       "         ...,\n",
       "         [0.1       , 0.07843138, 0.03137255],\n",
       "         [0.08627451, 0.07058824, 0.02352941],\n",
       "         [0.08627451, 0.07058824, 0.02745098]]],\n",
       "\n",
       "\n",
       "       ...,\n",
       "\n",
       "\n",
       "       [[[0.5056372 , 0.55269605, 0.5370098 ],\n",
       "         [0.50392157, 0.5539216 , 0.5372549 ],\n",
       "         [0.49191177, 0.5566176 , 0.53406864],\n",
       "         ...,\n",
       "         [0.48602942, 0.5213235 , 0.5095588 ],\n",
       "         [0.4852941 , 0.5205882 , 0.5088235 ],\n",
       "         [0.48235294, 0.5176471 , 0.5058824 ]],\n",
       "\n",
       "        [[0.51053923, 0.55759805, 0.5419118 ],\n",
       "         [0.50784314, 0.55784315, 0.5411765 ],\n",
       "         [0.49607843, 0.56078434, 0.5382353 ],\n",
       "         ...,\n",
       "         [0.4879902 , 0.5232843 , 0.5178922 ],\n",
       "         [0.49019608, 0.5269608 , 0.514951  ],\n",
       "         [0.49019608, 0.527451  , 0.5147059 ]],\n",
       "\n",
       "        [[0.50686276, 0.5539216 , 0.5382353 ],\n",
       "         [0.50392157, 0.5539216 , 0.5372549 ],\n",
       "         [0.49509802, 0.5598039 , 0.5372549 ],\n",
       "         ...,\n",
       "         [0.4894608 , 0.5276961 , 0.5237745 ],\n",
       "         [0.48872548, 0.52843136, 0.52230394],\n",
       "         [0.49411765, 0.5372549 , 0.52156866]],\n",
       "\n",
       "        ...,\n",
       "\n",
       "        [[0.48431373, 0.527451  , 0.5117647 ],\n",
       "         [0.48235294, 0.5254902 , 0.50980395],\n",
       "         [0.4884804 , 0.5294118 , 0.5203431 ],\n",
       "         ...,\n",
       "         [0.07720588, 0.06936274, 0.01838235],\n",
       "         [0.07328431, 0.06544118, 0.01519608],\n",
       "         [0.06960785, 0.06372549, 0.01666667]],\n",
       "\n",
       "        [[0.4879902 , 0.53112745, 0.5095588 ],\n",
       "         [0.48161766, 0.5247549 , 0.5031863 ],\n",
       "         [0.4877451 , 0.5264706 , 0.50710785],\n",
       "         ...,\n",
       "         [0.07230392, 0.06446078, 0.01348039],\n",
       "         [0.06715687, 0.06372549, 0.01568628],\n",
       "         [0.06397059, 0.06544118, 0.01764706]],\n",
       "\n",
       "        [[0.4862745 , 0.5294118 , 0.5058824 ],\n",
       "         [0.48210785, 0.5232843 , 0.5007353 ],\n",
       "         [0.4852941 , 0.5235294 , 0.49509802],\n",
       "         ...,\n",
       "         [0.08602941, 0.0752451 , 0.01838235],\n",
       "         [0.06568628, 0.06372549, 0.01568628],\n",
       "         [0.05490196, 0.0627451 , 0.01960784]]],\n",
       "\n",
       "\n",
       "       [[[0.5147059 , 0.5718137 , 0.5651961 ],\n",
       "         [0.51740193, 0.5762255 , 0.560049  ],\n",
       "         [0.51666665, 0.5754902 , 0.5563725 ],\n",
       "         ...,\n",
       "         [0.5262255 , 0.5497549 , 0.5419118 ],\n",
       "         [0.5276961 , 0.5482843 , 0.53455883],\n",
       "         [0.5254902 , 0.54509807, 0.5294118 ]],\n",
       "\n",
       "        [[0.535049  , 0.5852941 , 0.55857843],\n",
       "         [0.5382353 , 0.5892157 , 0.5598039 ],\n",
       "         [0.5375    , 0.5884804 , 0.5590686 ],\n",
       "         ...,\n",
       "         [0.5137255 , 0.55      , 0.54019606],\n",
       "         [0.5205882 , 0.5470588 , 0.5387255 ],\n",
       "         [0.5205882 , 0.5470588 , 0.5382353 ]],\n",
       "\n",
       "        [[0.5379902 , 0.5860294 , 0.5477941 ],\n",
       "         [0.5443627 , 0.592402  , 0.5541667 ],\n",
       "         [0.5441176 , 0.5921569 , 0.5539216 ],\n",
       "         ...,\n",
       "         [0.5147059 , 0.5598039 , 0.5529412 ],\n",
       "         [0.5139706 , 0.5539216 , 0.5477941 ],\n",
       "         [0.52156866, 0.5598039 , 0.5539216 ]],\n",
       "\n",
       "        ...,\n",
       "\n",
       "        [[0.47818628, 0.5507353 , 0.5272059 ],\n",
       "         [0.485049  , 0.5512255 , 0.52794117],\n",
       "         [0.49093136, 0.54901963, 0.5294118 ],\n",
       "         ...,\n",
       "         [0.13308823, 0.10171568, 0.05269608],\n",
       "         [0.14068627, 0.11446078, 0.05465686],\n",
       "         [0.1509804 , 0.1264706 , 0.06372549]],\n",
       "\n",
       "        [[0.47892156, 0.54558825, 0.52205884],\n",
       "         [0.4870098 , 0.5473039 , 0.5269608 ],\n",
       "         [0.49583334, 0.54583335, 0.52916664],\n",
       "         ...,\n",
       "         [0.08848039, 0.06004902, 0.01985294],\n",
       "         [0.09313726, 0.06764706, 0.02156863],\n",
       "         [0.09632353, 0.07083333, 0.02279412]],\n",
       "\n",
       "        [[0.47941175, 0.5421569 , 0.53039217],\n",
       "         [0.47843137, 0.53431374, 0.5235294 ],\n",
       "         [0.49215686, 0.5392157 , 0.53137255],\n",
       "         ...,\n",
       "         [0.08602941, 0.07352941, 0.0382353 ],\n",
       "         [0.09142157, 0.07892157, 0.03480392],\n",
       "         [0.08529412, 0.07303922, 0.02818627]]],\n",
       "\n",
       "\n",
       "       [[[0.5264706 , 0.56960785, 0.5539216 ],\n",
       "         [0.53431374, 0.5764706 , 0.5637255 ],\n",
       "         [0.5372549 , 0.5764706 , 0.57254905],\n",
       "         ...,\n",
       "         [0.4862745 , 0.54509807, 0.527451  ],\n",
       "         [0.49313724, 0.55196077, 0.54019606],\n",
       "         [0.4872549 , 0.54607844, 0.53431374]],\n",
       "\n",
       "        [[0.5203431 , 0.5801471 , 0.5683824 ],\n",
       "         [0.5352941 , 0.58504903, 0.5769608 ],\n",
       "         [0.535049  , 0.58406866, 0.58259803],\n",
       "         ...,\n",
       "         [0.5       , 0.55588233, 0.54509807],\n",
       "         [0.5002451 , 0.5561274 , 0.54534316],\n",
       "         [0.4970588 , 0.5529412 , 0.5421569 ]],\n",
       "\n",
       "        [[0.50686276, 0.57843137, 0.56960785],\n",
       "         [0.51666665, 0.5855392 , 0.5781863 ],\n",
       "         [0.5208333 , 0.5772059 , 0.5764706 ],\n",
       "         ...,\n",
       "         [0.5142157 , 0.5539216 , 0.5497549 ],\n",
       "         [0.51666665, 0.55784315, 0.5529412 ],\n",
       "         [0.5088235 , 0.55588233, 0.5480392 ]],\n",
       "\n",
       "        ...,\n",
       "\n",
       "        [[0.4872549 , 0.54313725, 0.5323529 ],\n",
       "         [0.5009804 , 0.54607844, 0.5411765 ],\n",
       "         [0.49313724, 0.5382353 , 0.53333336],\n",
       "         ...,\n",
       "         [0.08602941, 0.08137255, 0.01323529],\n",
       "         [0.08848039, 0.09240196, 0.03382353],\n",
       "         [0.10784314, 0.1127451 , 0.05784314]],\n",
       "\n",
       "        [[0.49240196, 0.5394608 , 0.5375    ],\n",
       "         [0.49632353, 0.5370098 , 0.54019606],\n",
       "         [0.49313724, 0.5360294 , 0.5414216 ],\n",
       "         ...,\n",
       "         [0.08308823, 0.08995098, 0.01053922],\n",
       "         [0.06911765, 0.08088236, 0.0122549 ],\n",
       "         [0.07279412, 0.08921569, 0.03039216]],\n",
       "\n",
       "        [[0.4852941 , 0.5323529 , 0.5323529 ],\n",
       "         [0.49411765, 0.53333336, 0.5411765 ],\n",
       "         [0.4982843 , 0.54044116, 0.5482843 ],\n",
       "         ...,\n",
       "         [0.08333334, 0.09362745, 0.01176471],\n",
       "         [0.0759804 , 0.09485294, 0.0245098 ],\n",
       "         [0.06495098, 0.09411765, 0.03308824]]]], dtype=float32)"
      ]
     },
     "execution_count": 51,
     "metadata": {},
     "output_type": "execute_result"
    }
   ],
   "source": [
    "batch_1[0]"
   ]
  },
  {
   "cell_type": "code",
   "execution_count": 52,
   "id": "00847ec6",
   "metadata": {},
   "outputs": [],
   "source": [
    "@tf.function\n",
    "def train_step(batch):\n",
    "    with tf.GradientTape() as tape:\n",
    "        \n",
    "        #Get anchor and positive/negative Images\n",
    "        x = batch[:2]\n",
    "        #Get Lable\n",
    "        y = batch[2]\n",
    "        \n",
    "        # Forward Pass\n",
    "        yhat = siamese_model(x, training=True)\n",
    "        # calculate loss\n",
    "        loss = binary_cross_loss(y, yhat)\n",
    "    print(loss)\n",
    "        \n",
    "    #calculate gradient\n",
    "    grad = tape.gradient(loss, siamese_model.trainable_variables)\n",
    "    \n",
    "    #calculate updated weights and apply the siamese model\n",
    "    opt.apply_gradients(zip(grad, siamese_model.trainable_variables))\n",
    "    return loss\n",
    "    "
   ]
  },
  {
   "cell_type": "markdown",
   "id": "cc1f3ed2",
   "metadata": {},
   "source": [
    "#Build Training Loop"
   ]
  },
  {
   "cell_type": "code",
   "execution_count": 53,
   "id": "7e6be835",
   "metadata": {},
   "outputs": [],
   "source": [
    "def train(data, EPOCHS):\n",
    "    #loop through epochs\n",
    "    for epoch in range(1, EPOCHS+1):\n",
    "        print('\\n Epoch {}/{}'.format(epoch, EPOCHS))\n",
    "        progbar = tf.keras.utils.Progbar(len(data))\n",
    "        \n",
    "        # Loop through each batch\n",
    "        for idx, batch in enumerate(data):\n",
    "            #run train step here\n",
    "            train_step(batch)\n",
    "            progbar.update(idx+1)\n",
    "            \n",
    "        #save checkpoints\n",
    "        if epoch % 10 == 0:\n",
    "            checkpoint.save(file_prefix=checkpoint_prefix)"
   ]
  },
  {
   "cell_type": "code",
   "execution_count": 54,
   "id": "1b259a48",
   "metadata": {},
   "outputs": [],
   "source": [
    "# train the model"
   ]
  },
  {
   "cell_type": "code",
   "execution_count": 55,
   "id": "0d20de81",
   "metadata": {},
   "outputs": [],
   "source": [
    "EPOCHS = 50"
   ]
  },
  {
   "cell_type": "code",
   "execution_count": 69,
   "id": "01fd714d",
   "metadata": {},
   "outputs": [
    {
     "data": {
      "text/plain": [
       "['checkpoint',\n",
       " 'ckpt-1.data-00000-of-00001',\n",
       " 'ckpt-1.index',\n",
       " 'ckpt-2.data-00000-of-00001',\n",
       " 'ckpt-2.index',\n",
       " 'ckpt-3.data-00000-of-00001',\n",
       " 'ckpt-3.index',\n",
       " 'ckpt-4.data-00000-of-00001',\n",
       " 'ckpt-4.index',\n",
       " 'ckpt-5.data-00000-of-00001',\n",
       " 'ckpt-5.index']"
      ]
     },
     "execution_count": 69,
     "metadata": {},
     "output_type": "execute_result"
    }
   ],
   "source": [
    "os.listdir(checkpoint_dir)"
   ]
  },
  {
   "cell_type": "code",
   "execution_count": 121,
   "id": "caf085db",
   "metadata": {},
   "outputs": [
    {
     "name": "stdout",
     "output_type": "stream",
     "text": [
      "[0. 0. 0. 0. 0.]\n",
      "[0. 0. 0. 0. 0.]\n"
     ]
    }
   ],
   "source": [
    "to_restore = tf.Variable(tf.zeros([5]))\n",
    "print(to_restore.numpy())  # All zeros\n",
    "fake_layer = tf.train.Checkpoint(bias=to_restore)\n",
    "fake_net = tf.train.Checkpoint(l1=fake_layer)\n",
    "new_root = tf.train.Checkpoint(net=fake_net)\n",
    "status = new_root.restore(tf.train.latest_checkpoint('checkpoint_prefix'))\n",
    "print(to_restore.numpy())  # This gets the restored value."
   ]
  },
  {
   "cell_type": "code",
   "execution_count": 122,
   "id": "7ed707fe",
   "metadata": {},
   "outputs": [],
   "source": [
    "#latest = model.load_weights(checkpoint_dir)"
   ]
  },
  {
   "cell_type": "code",
   "execution_count": 147,
   "id": "de4ae336",
   "metadata": {},
   "outputs": [],
   "source": [
    "#train(train_data, EPOCHS)"
   ]
  },
  {
   "cell_type": "markdown",
   "id": "123b7bfe",
   "metadata": {},
   "source": [
    "# Evaluate Model"
   ]
  },
  {
   "cell_type": "code",
   "execution_count": 124,
   "id": "5469789c",
   "metadata": {},
   "outputs": [],
   "source": [
    "from tensorflow.keras.metrics import Precision, Recall"
   ]
  },
  {
   "cell_type": "code",
   "execution_count": 125,
   "id": "ebae346b",
   "metadata": {},
   "outputs": [],
   "source": [
    "#get a batch of test data\n",
    "test_input, test_val, y_true = test_data.as_numpy_iterator().next()"
   ]
  },
  {
   "cell_type": "code",
   "execution_count": 126,
   "id": "6447dc8b",
   "metadata": {},
   "outputs": [
    {
     "name": "stdout",
     "output_type": "stream",
     "text": [
      "1/1 [==============================] - 2s 2s/step\n"
     ]
    },
    {
     "data": {
      "text/plain": [
       "array([[0.49267444],\n",
       "       [0.01928136],\n",
       "       [0.0263868 ],\n",
       "       [0.01879462],\n",
       "       [0.48854694],\n",
       "       [0.4984047 ],\n",
       "       [0.01876106],\n",
       "       [0.46370664],\n",
       "       [0.38542777],\n",
       "       [0.02750281],\n",
       "       [0.41409007],\n",
       "       [0.04822182],\n",
       "       [0.03424822],\n",
       "       [0.019065  ],\n",
       "       [0.4330728 ],\n",
       "       [0.49147356]], dtype=float32)"
      ]
     },
     "execution_count": 126,
     "metadata": {},
     "output_type": "execute_result"
    }
   ],
   "source": [
    "# Make predictions\n",
    "y_hat = siamese_model.predict([test_input, test_val])\n",
    "y_hat"
   ]
  },
  {
   "cell_type": "code",
   "execution_count": 127,
   "id": "b65d5896",
   "metadata": {},
   "outputs": [
    {
     "data": {
      "text/plain": [
       "[0, 0, 0, 0, 0, 0, 0, 0, 0, 0, 0, 0, 0, 0, 0, 0]"
      ]
     },
     "execution_count": 127,
     "metadata": {},
     "output_type": "execute_result"
    }
   ],
   "source": [
    "[1 if prediction > 0.5 else 0 for prediction in y_hat]"
   ]
  },
  {
   "cell_type": "code",
   "execution_count": 128,
   "id": "ecb5ff7f",
   "metadata": {},
   "outputs": [
    {
     "data": {
      "text/plain": [
       "array([1., 0., 0., 0., 1., 1., 0., 1., 1., 0., 1., 0., 0., 0., 1., 1.],\n",
       "      dtype=float32)"
      ]
     },
     "execution_count": 128,
     "metadata": {},
     "output_type": "execute_result"
    }
   ],
   "source": [
    "y_true"
   ]
  },
  {
   "cell_type": "code",
   "execution_count": 129,
   "id": "83d57263",
   "metadata": {},
   "outputs": [
    {
     "data": {
      "text/plain": [
       "0.0"
      ]
     },
     "execution_count": 129,
     "metadata": {},
     "output_type": "execute_result"
    }
   ],
   "source": [
    "# Creeating a metric object\n",
    "m = Recall()\n",
    "\n",
    "# Calculating the recall value\n",
    "m.update_state(y_true, y_hat)\n",
    "m.result().numpy()\n"
   ]
  },
  {
   "cell_type": "code",
   "execution_count": 130,
   "id": "23591136",
   "metadata": {},
   "outputs": [
    {
     "data": {
      "image/png": "[encoded data removed]",
      "text/plain": [
       "<Figure size 1000x800 with 2 Axes>"
      ]
     },
     "metadata": {},
     "output_type": "display_data"
    }
   ],
   "source": [
    "plt.figure(figsize=(10,8))\n",
    "\n",
    "plt.subplot(1,2,1)\n",
    "plt.imshow(test_input[3])\n",
    "plt.subplot(1,2,2)\n",
    "plt.imshow(test_val[1])\n",
    "plt.show()"
   ]
  },
  {
   "cell_type": "code",
   "execution_count": 131,
   "id": "fe5747d5",
   "metadata": {},
   "outputs": [
    {
     "name": "stdout",
     "output_type": "stream",
     "text": [
      "WARNING:tensorflow:Compiled the loaded model, but the compiled metrics have yet to be built. `model.compile_metrics` will be empty until you train or evaluate the model.\n"
     ]
    }
   ],
   "source": [
    "## Save a Model\n",
    "siamese_model.save('siamesemodel.h5')"
   ]
  },
  {
   "cell_type": "code",
   "execution_count": 132,
   "id": "a5284bd8",
   "metadata": {},
   "outputs": [
    {
     "name": "stdout",
     "output_type": "stream",
     "text": [
      "WARNING:tensorflow:No training configuration found in the save file, so the model was *not* compiled. Compile it manually.\n"
     ]
    }
   ],
   "source": [
    "model = tf.keras.models.load_model('siamesemodel.h5', custom_objects = {'L1Dist':L1Dist, 'BinaryCrossentropy':tf.losses.BinaryCrossentropy})"
   ]
  },
  {
   "cell_type": "code",
   "execution_count": 133,
   "id": "9e1f96f5",
   "metadata": {},
   "outputs": [
    {
     "name": "stdout",
     "output_type": "stream",
     "text": [
      "1/1 [==============================] - 4s 4s/step\n"
     ]
    },
    {
     "data": {
      "text/plain": [
       "array([[0.49267444],\n",
       "       [0.01928136],\n",
       "       [0.0263868 ],\n",
       "       [0.01879462],\n",
       "       [0.48854694],\n",
       "       [0.4984047 ],\n",
       "       [0.01876106],\n",
       "       [0.46370664],\n",
       "       [0.38542777],\n",
       "       [0.02750281],\n",
       "       [0.41409007],\n",
       "       [0.04822182],\n",
       "       [0.03424822],\n",
       "       [0.019065  ],\n",
       "       [0.4330728 ],\n",
       "       [0.49147356]], dtype=float32)"
      ]
     },
     "execution_count": 133,
     "metadata": {},
     "output_type": "execute_result"
    }
   ],
   "source": [
    "model.predict([test_input, test_val])"
   ]
  },
  {
   "cell_type": "code",
   "execution_count": 134,
   "id": "9e487e0a",
   "metadata": {},
   "outputs": [
    {
     "name": "stdout",
     "output_type": "stream",
     "text": [
      "Model: \"SiameseNetwork\"\n",
      "__________________________________________________________________________________________________\n",
      " Layer (type)                   Output Shape         Param #     Connected to                     \n",
      "==================================================================================================\n",
      " input_img (InputLayer)         [(None, 100, 100, 3  0           []                               \n",
      "                                )]                                                                \n",
      "                                                                                                  \n",
      " validation_img (InputLayer)    [(None, 100, 100, 3  0           []                               \n",
      "                                )]                                                                \n",
      "                                                                                                  \n",
      " embedding (Functional)         (None, 4096)         38960448    ['input_img[0][0]',              \n",
      "                                                                  'validation_img[0][0]']         \n",
      "                                                                                                  \n",
      " l1_dist_5 (L1Dist)             (None, 4096)         0           ['embedding[0][0]',              \n",
      "                                                                  'embedding[1][0]']              \n",
      "                                                                                                  \n",
      " dense_2 (Dense)                (None, 1)            4097        ['l1_dist_5[0][0]']              \n",
      "                                                                                                  \n",
      "==================================================================================================\n",
      "Total params: 38,964,545\n",
      "Trainable params: 38,964,545\n",
      "Non-trainable params: 0\n",
      "__________________________________________________________________________________________________\n"
     ]
    }
   ],
   "source": [
    "model.summary()"
   ]
  },
  {
   "cell_type": "markdown",
   "id": "ea32fab8",
   "metadata": {},
   "source": [
    "## Real time test\n"
   ]
  },
  {
   "cell_type": "code",
   "execution_count": 135,
   "id": "2a6bebfe",
   "metadata": {},
   "outputs": [
    {
     "data": {
      "text/plain": [
       "['92e585b2-61e5-11ed-b111-975062e6057d.jpg',\n",
       " '9b24875f-61e5-11ed-9ce7-975062e6057d.jpg',\n",
       " '9b3ff1ce-61e5-11ed-93d9-975062e6057d.jpg',\n",
       " '9b575f67-61e5-11ed-9094-975062e6057d.jpg',\n",
       " '9b5fbb53-61e5-11ed-b396-975062e6057d.jpg',\n",
       " '9b6dc4c7-61e5-11ed-8270-975062e6057d.jpg',\n",
       " '9b7c43f5-61e5-11ed-8e08-975062e6057d.jpg',\n",
       " '9b8e0d90-61e5-11ed-8a63-975062e6057d.jpg',\n",
       " '9b9c5f77-61e5-11ed-abcd-975062e6057d.jpg',\n",
       " '9bb3315c-61e5-11ed-be0a-975062e6057d.jpg',\n",
       " '9c185bf6-61e5-11ed-98da-975062e6057d.jpg',\n",
       " '9c26ba6f-61e5-11ed-82d2-975062e6057d.jpg',\n",
       " '9c2f31f4-61e5-11ed-85a3-975062e6057d.jpg',\n",
       " '9c3d79e1-61e5-11ed-af63-975062e6057d.jpg',\n",
       " '9c4bc389-61e5-11ed-b6bc-975062e6057d.jpg',\n",
       " '9c546398-61e5-11ed-8c11-975062e6057d.jpg',\n",
       " '9c619803-61e5-11ed-a7dd-975062e6057d.jpg',\n",
       " '9c702325-61e5-11ed-ada3-975062e6057d.jpg',\n",
       " '9c7e5b9b-61e5-11ed-af2d-975062e6057d.jpg',\n",
       " '9c86b125-61e5-11ed-879d-975062e6057d.jpg',\n",
       " '9cb0a778-61e5-11ed-a8c3-975062e6057d.jpg',\n",
       " '9cd144f3-61e5-11ed-8f0c-975062e6057d.jpg',\n",
       " '9cd9d402-61e5-11ed-b931-975062e6057d.jpg',\n",
       " '9cfd1073-61e5-11ed-88ec-975062e6057d.jpg',\n",
       " '9f20c712-61e5-11ed-a0b7-975062e6057d.jpg',\n",
       " '9f28f8e8-61e5-11ed-a1ba-975062e6057d.jpg',\n",
       " '9f37573f-61e5-11ed-b724-975062e6057d.jpg',\n",
       " '9f43cc59-61e5-11ed-90d6-975062e6057d.jpg',\n",
       " '9f652466-61e5-11ed-bb93-975062e6057d.jpg',\n",
       " '9f7614c9-61e5-11ed-a334-975062e6057d.jpg',\n",
       " '9f8f4aeb-61e5-11ed-b600-975062e6057d.jpg',\n",
       " '9fa680a3-61e5-11ed-b193-975062e6057d.jpg',\n",
       " '9faed9b2-61e5-11ed-b5ee-975062e6057d.jpg',\n",
       " '9fd8b459-61e5-11ed-b7f8-975062e6057d.jpg',\n",
       " '9fe6f6fd-61e5-11ed-a96d-975062e6057d.jpg',\n",
       " '9fefd2be-61e5-11ed-ac56-975062e6057d.jpg']"
      ]
     },
     "execution_count": 135,
     "metadata": {},
     "output_type": "execute_result"
    }
   ],
   "source": [
    " os.listdir(os.path.join('application_data', 'verification_images'))"
   ]
  },
  {
   "cell_type": "code",
   "execution_count": 144,
   "id": "7ea53581",
   "metadata": {},
   "outputs": [],
   "source": [
    "# verification function\n",
    "def verify(model, detection_threshold, verification_threshold):\n",
    "    results = []\n",
    "    for image in os.listdir(os.path.join('application_data', 'verification_images')):\n",
    "        input_img = preprocess(os.path.join('application_data','input_image', 'input_image.jpg'))\n",
    "        validation_img = preprocess(os.path.join('application_data', 'verification_images', image))\n",
    "        \n",
    "        # Make Prediction\n",
    "        result = model.predict(list(np.expand_dims([input_img, validation_img], axis=1)))\n",
    "        results.append(result)\n",
    "        \n",
    "    # Detection Threshold\n",
    "    detection = np.sum(np.array(results) > detection_threshold)\n",
    "    # Verification Threshold\n",
    "    verification = detection / len(os.listdir(os.path.join('application_data', 'verification_images')))\n",
    "    verified = verification > verification_threshold\n",
    "    \n",
    "    return results, verified\n",
    "        "
   ]
  },
  {
   "cell_type": "markdown",
   "id": "e2f1f2a9",
   "metadata": {},
   "source": [
    "## OpenCV real Time Verification"
   ]
  },
  {
   "cell_type": "code",
   "execution_count": 145,
   "id": "2f167177",
   "metadata": {},
   "outputs": [
    {
     "name": "stdout",
     "output_type": "stream",
     "text": [
      "1/1 [==============================] - 3s 3s/step\n",
      "1/1 [==============================] - 0s 273ms/step\n",
      "1/1 [==============================] - 0s 226ms/step\n",
      "1/1 [==============================] - 0s 207ms/step\n",
      "1/1 [==============================] - 0s 253ms/step\n",
      "1/1 [==============================] - 0s 222ms/step\n",
      "1/1 [==============================] - 0s 244ms/step\n",
      "1/1 [==============================] - 0s 281ms/step\n",
      "1/1 [==============================] - 0s 207ms/step\n",
      "1/1 [==============================] - 0s 192ms/step\n",
      "1/1 [==============================] - 0s 223ms/step\n",
      "1/1 [==============================] - 0s 281ms/step\n",
      "1/1 [==============================] - 0s 300ms/step\n",
      "1/1 [==============================] - 0s 254ms/step\n",
      "1/1 [==============================] - 0s 289ms/step\n",
      "1/1 [==============================] - 0s 259ms/step\n",
      "1/1 [==============================] - 0s 254ms/step\n",
      "1/1 [==============================] - 0s 265ms/step\n",
      "1/1 [==============================] - 0s 211ms/step\n",
      "1/1 [==============================] - 0s 223ms/step\n",
      "1/1 [==============================] - 0s 225ms/step\n",
      "1/1 [==============================] - 0s 263ms/step\n",
      "1/1 [==============================] - 0s 258ms/step\n",
      "1/1 [==============================] - 0s 288ms/step\n",
      "1/1 [==============================] - 0s 313ms/step\n",
      "1/1 [==============================] - 0s 260ms/step\n",
      "1/1 [==============================] - 0s 256ms/step\n",
      "1/1 [==============================] - 0s 236ms/step\n",
      "1/1 [==============================] - 0s 276ms/step\n",
      "1/1 [==============================] - 0s 244ms/step\n",
      "1/1 [==============================] - 0s 253ms/step\n",
      "1/1 [==============================] - 0s 257ms/step\n",
      "1/1 [==============================] - 0s 224ms/step\n",
      "1/1 [==============================] - 0s 256ms/step\n",
      "1/1 [==============================] - 0s 292ms/step\n",
      "1/1 [==============================] - 0s 277ms/step\n",
      "False\n",
      "1/1 [==============================] - 0s 180ms/step\n",
      "1/1 [==============================] - 0s 198ms/step\n",
      "1/1 [==============================] - 0s 193ms/step\n",
      "1/1 [==============================] - 0s 235ms/step\n",
      "1/1 [==============================] - 0s 243ms/step\n",
      "1/1 [==============================] - 0s 290ms/step\n",
      "1/1 [==============================] - 0s 201ms/step\n",
      "1/1 [==============================] - 0s 209ms/step\n",
      "1/1 [==============================] - 0s 202ms/step\n",
      "1/1 [==============================] - 0s 204ms/step\n",
      "1/1 [==============================] - 0s 180ms/step\n",
      "1/1 [==============================] - 0s 221ms/step\n",
      "1/1 [==============================] - 0s 234ms/step\n",
      "1/1 [==============================] - 0s 240ms/step\n",
      "1/1 [==============================] - 0s 195ms/step\n",
      "1/1 [==============================] - 0s 200ms/step\n",
      "1/1 [==============================] - 0s 234ms/step\n",
      "1/1 [==============================] - 0s 219ms/step\n",
      "1/1 [==============================] - 0s 279ms/step\n",
      "1/1 [==============================] - 0s 238ms/step\n",
      "1/1 [==============================] - 0s 273ms/step\n",
      "1/1 [==============================] - 0s 249ms/step\n",
      "1/1 [==============================] - 0s 223ms/step\n",
      "1/1 [==============================] - 0s 234ms/step\n",
      "1/1 [==============================] - 0s 310ms/step\n",
      "1/1 [==============================] - 0s 320ms/step\n",
      "1/1 [==============================] - 0s 273ms/step\n",
      "1/1 [==============================] - 0s 287ms/step\n",
      "1/1 [==============================] - 0s 442ms/step\n",
      "1/1 [==============================] - 0s 246ms/step\n",
      "1/1 [==============================] - 0s 292ms/step\n",
      "1/1 [==============================] - 0s 256ms/step\n",
      "1/1 [==============================] - 0s 234ms/step\n",
      "1/1 [==============================] - 0s 236ms/step\n",
      "1/1 [==============================] - 0s 201ms/step\n",
      "1/1 [==============================] - 0s 238ms/step\n",
      "False\n"
     ]
    }
   ],
   "source": [
    "cap = cv2.VideoCapture(0)\n",
    "while cap.isOpened():\n",
    "    ret,frame = cap.read()\n",
    "    frame = frame[90:90+250,100:100+250,:]\n",
    "    cv2.imshow('Image Collection', frame)\n",
    "    #collect anchor\n",
    "    if cv2.waitKey(1) & 0XFF == ord('v'):\n",
    "        imgname = os.path.join('application_data','input_image','input_image.jpg')\n",
    "        cv2.imwrite(imgname, frame)\n",
    "    \n",
    "        #Run Verification\n",
    "        results, verified = verify(model,0.5,0.5)\n",
    "        print(verified)\n",
    "\n",
    " \n",
    "    if cv2.waitKey(1) & 0XFF == ord('q'):\n",
    "        break\n",
    "cap.release()\n",
    "cv2.destroyAllWindows()"
   ]
  },
  {
   "cell_type": "code",
   "execution_count": null,
   "id": "6266245c",
   "metadata": {},
   "outputs": [],
   "source": []
  }
 ],
 "metadata": {
  "kernelspec": {
   "display_name": "Python 3 (ipykernel)",
   "language": "python",
   "name": "python3"
  },
  "language_info": {
   "codemirror_mode": {
    "name": "ipython",
    "version": 3
   },
   "file_extension": ".py",
   "mimetype": "text/x-python",
   "name": "python",
   "nbconvert_exporter": "python",
   "pygments_lexer": "ipython3",
   "version": "3.9.0"
  }
 },
 "nbformat": 4,
 "nbformat_minor": 5
}
